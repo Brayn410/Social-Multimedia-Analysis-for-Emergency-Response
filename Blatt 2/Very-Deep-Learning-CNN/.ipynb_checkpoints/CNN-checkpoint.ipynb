{
 "cells": [
  {
   "cell_type": "code",
   "execution_count": 1,
   "metadata": {},
   "outputs": [],
   "source": [
    "from __future__ import print_function\n",
    "import sys\n",
    "#sys.path.append('D:\\\\Dropbox\\\\Dropbox\\\\Master Theoretische Informatik\\\\Very Deep Learning\\\\WiSe 18_19\\\\VDL_Python\\Blatt 2\\\\Very-Deep-Learning-CNN\\\\')\n",
    "#sys.path.append('I:\\\\Programme\\\\Python 3.5\\\\Lib\\\\site-packages\\\\')"
   ]
  },
  {
   "cell_type": "code",
   "execution_count": 2,
   "metadata": {},
   "outputs": [],
   "source": [
    "%matplotlib inline\n",
    "%reload_ext autoreload\n",
    "%autoreload 2"
   ]
  },
  {
   "cell_type": "code",
   "execution_count": 3,
   "metadata": {},
   "outputs": [],
   "source": [
    "import torch\n",
    "import torch.nn as nn\n",
    "import torch.backends.cudnn as cudnn\n",
    "import matplotlib.pyplot as plt"
   ]
  },
  {
   "cell_type": "code",
   "execution_count": 4,
   "metadata": {},
   "outputs": [
    {
     "name": "stdout",
     "output_type": "stream",
     "text": [
      "Hallo\n"
     ]
    }
   ],
   "source": [
    "use_cuda = torch.cuda.is_available()\n",
    "print(\"Hallo\")"
   ]
  },
  {
   "cell_type": "code",
   "execution_count": 5,
   "metadata": {},
   "outputs": [
    {
     "name": "stdout",
     "output_type": "stream",
     "text": [
      "Warning: Your Kaggle API key is readable by otherusers on this system! To fix this, you can run'chmod 600 /home/marco/.kaggle/kaggle.json'\n"
     ]
    }
   ],
   "source": [
    "from dataset import dataset\n",
    "from AlexNet import AlexNet\n",
    "from train_test import start_train_test"
   ]
  },
  {
   "cell_type": "code",
   "execution_count": 7,
   "metadata": {},
   "outputs": [
    {
     "name": "stdout",
     "output_type": "stream",
     "text": [
      "| Preparing CIFAR-10 dataset...\n",
      "| Downloading https://www.cs.toronto.edu/~kriz/cifar-10-python.tar.gz to ./data/cifar-10-python.tar.gz\n",
      "Output classes: 10\n",
      "Input channels: 3\n"
     ]
    }
   ],
   "source": [
    "trainloader, testloader, outputs, inputs = dataset('dog-breed')\n",
    "print ('Output classes: {}\\nInput channels: {}'.format(outputs, inputs))"
   ]
  },
  {
   "cell_type": "code",
   "execution_count": 7,
   "metadata": {},
   "outputs": [],
   "source": [
    "net = AlexNet(num_classes = outputs,inputs=inputs)\n",
    "file_name = 'alexnet-'"
   ]
  },
  {
   "cell_type": "code",
   "execution_count": 8,
   "metadata": {},
   "outputs": [],
   "source": [
    "if use_cuda:\n",
    "    net.cuda()\n",
    "    net = torch.nn.DataParallel(net, device_ids=range(torch.cuda.device_count()))\n",
    "    cudnn.benchmark = True"
   ]
  },
  {
   "cell_type": "code",
   "execution_count": 9,
   "metadata": {},
   "outputs": [],
   "source": [
    "criterion = nn.CrossEntropyLoss()"
   ]
  },
  {
   "cell_type": "code",
   "execution_count": 10,
   "metadata": {},
   "outputs": [
    {
     "name": "stdout",
     "output_type": "stream",
     "text": [
      "\n",
      "=> Training Epoch #1, LR=0.0010\n"
     ]
    },
    {
     "name": "stderr",
     "output_type": "stream",
     "text": [
      "D:\\Dropbox\\Dropbox\\Master Theoretische Informatik\\Very Deep Learning\\WiSe 18_19\\VDL_Python\\Blatt 2\\Very-Deep-Learning-CNN\\train_test.py:31: UserWarning: invalid index of a 0-dim tensor. This will be an error in PyTorch 0.5. Use tensor.item() to convert a 0-dim tensor to a Python number\n",
      "  train_loss += loss.data[0]\n",
      "D:\\Dropbox\\Dropbox\\Master Theoretische Informatik\\Very Deep Learning\\WiSe 18_19\\VDL_Python\\Blatt 2\\Very-Deep-Learning-CNN\\train_test.py:35: UserWarning: invalid index of a 0-dim tensor. This will be an error in PyTorch 0.5. Use tensor.item() to convert a 0-dim tensor to a Python number\n",
      "  train_loss_stacked = np.append(train_loss_stacked, loss.data[0].cpu().numpy())\n",
      "D:\\Dropbox\\Dropbox\\Master Theoretische Informatik\\Very Deep Learning\\WiSe 18_19\\VDL_Python\\Blatt 2\\Very-Deep-Learning-CNN\\train_test.py:37: UserWarning: invalid index of a 0-dim tensor. This will be an error in PyTorch 0.5. Use tensor.item() to convert a 0-dim tensor to a Python number\n",
      "  %(epoch, cf.num_epochs, loss.data[0], 100.*correct/total))\n"
     ]
    },
    {
     "name": "stdout",
     "output_type": "stream",
     "text": [
      "| Epoch [  1/ 10] \t\tLoss: 0.3356 Acc@1: 73.000%\n"
     ]
    },
    {
     "name": "stderr",
     "output_type": "stream",
     "text": [
      "D:\\Dropbox\\Dropbox\\Master Theoretische Informatik\\Very Deep Learning\\WiSe 18_19\\VDL_Python\\Blatt 2\\Very-Deep-Learning-CNN\\train_test.py:57: UserWarning: invalid index of a 0-dim tensor. This will be an error in PyTorch 0.5. Use tensor.item() to convert a 0-dim tensor to a Python number\n",
      "  test_loss += loss.data[0]\n",
      "D:\\Dropbox\\Dropbox\\Master Theoretische Informatik\\Very Deep Learning\\WiSe 18_19\\VDL_Python\\Blatt 2\\Very-Deep-Learning-CNN\\train_test.py:61: UserWarning: invalid index of a 0-dim tensor. This will be an error in PyTorch 0.5. Use tensor.item() to convert a 0-dim tensor to a Python number\n",
      "  test_loss_stacked = np.append(test_loss_stacked, loss.data[0].cpu().numpy())\n",
      "D:\\Dropbox\\Dropbox\\Master Theoretische Informatik\\Very Deep Learning\\WiSe 18_19\\VDL_Python\\Blatt 2\\Very-Deep-Learning-CNN\\train_test.py:66: UserWarning: invalid index of a 0-dim tensor. This will be an error in PyTorch 0.5. Use tensor.item() to convert a 0-dim tensor to a Python number\n",
      "  print(\"\\n| Validation Epoch #%d\\t\\t\\tLoss: %.4f Acc@1: %.2f%%\" % (epoch, loss.data[0], acc))\n"
     ]
    },
    {
     "name": "stdout",
     "output_type": "stream",
     "text": [
      "\n",
      "| Validation Epoch #1\t\t\tLoss: 0.0680 Acc@1: 95.00%\n",
      "* Test results : Acc@1 = 95.00%\n",
      "| Elapsed time : 0:00:50\n",
      "\n",
      "=> Training Epoch #2, LR=0.0010\n",
      "| Epoch [  2/ 10] \t\tLoss: 0.1024 Acc@1: 95.000%\n",
      "\n",
      "| Validation Epoch #2\t\t\tLoss: 0.0039 Acc@1: 96.00%\n",
      "* Test results : Acc@1 = 96.00%\n",
      "| Elapsed time : 0:01:24\n",
      "\n",
      "=> Training Epoch #3, LR=0.0010\n",
      "| Epoch [  3/ 10] \t\tLoss: 0.0115 Acc@1: 96.000%\n"
     ]
    }
   ],
   "source": [
    "train_loss, test_loss = start_train_test(net, trainloader, testloader, criterion)"
   ]
  },
  {
   "cell_type": "code",
   "execution_count": null,
   "metadata": {},
   "outputs": [],
   "source": [
    "plt.plot(train_loss)\n",
    "plt.ylabel('Train Loss')\n",
    "plt.show()"
   ]
  },
  {
   "cell_type": "code",
   "execution_count": null,
   "metadata": {},
   "outputs": [],
   "source": [
    "plt.plot(test_loss)\n",
    "plt.ylabel('Test Loss')\n",
    "plt.show()"
   ]
  },
  {
   "cell_type": "code",
   "execution_count": null,
   "metadata": {},
   "outputs": [],
   "source": []
  },
  {
   "cell_type": "code",
   "execution_count": null,
   "metadata": {},
   "outputs": [],
   "source": []
  },
  {
   "cell_type": "code",
   "execution_count": null,
   "metadata": {},
   "outputs": [],
   "source": []
  }
 ],
 "metadata": {
  "kernelspec": {
   "display_name": "Python 3",
   "language": "python",
   "name": "python3"
  },
  "language_info": {
   "codemirror_mode": {
    "name": "ipython",
    "version": 3
   },
   "file_extension": ".py",
   "mimetype": "text/x-python",
   "name": "python",
   "nbconvert_exporter": "python",
   "pygments_lexer": "ipython3",
   "version": "3.6.6"
  }
 },
 "nbformat": 4,
 "nbformat_minor": 2
}
