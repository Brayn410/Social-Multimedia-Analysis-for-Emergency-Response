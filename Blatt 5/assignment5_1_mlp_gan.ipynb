{
 "cells": [
  {
   "cell_type": "markdown",
   "metadata": {
    "colab_type": "text",
    "id": "vyjGtVh6M3vo"
   },
   "source": [
    "### Install and import these required packages"
   ]
  },
  {
   "cell_type": "code",
   "execution_count": 19,
   "metadata": {
    "colab": {},
    "colab_type": "code",
    "id": "SwuDgPsFBvoT"
   },
   "outputs": [],
   "source": [
    "import itertools\n",
    "import math\n",
    "import time\n",
    "\n",
    "import torch\n",
    "import torch.nn as nn\n",
    "import torch.nn.functional as F\n",
    "from torch.autograd import Variable\n",
    "\n",
    "from torchvision import datasets, transforms\n",
    "\n",
    "%matplotlib inline\n",
    "import matplotlib.pyplot as plt\n",
    "from IPython import display\n"
   ]
  },
  {
   "cell_type": "markdown",
   "metadata": {
    "colab_type": "text",
    "id": "Yt8V4jePtSGu"
   },
   "source": [
    "### Set number of epochs and batch size"
   ]
  },
  {
   "cell_type": "code",
   "execution_count": 110,
   "metadata": {
    "colab": {},
    "colab_type": "code",
    "id": "hYVir0aTtDf4"
   },
   "outputs": [],
   "source": [
    "num_epochs = 80\n",
    "batch_size = 100"
   ]
  },
  {
   "cell_type": "markdown",
   "metadata": {
    "colab_type": "text",
    "id": "ErdP2SK2BvoY"
   },
   "source": [
    "### Load MNIST Dataset"
   ]
  },
  {
   "cell_type": "code",
   "execution_count": 111,
   "metadata": {
    "colab": {},
    "colab_type": "code",
    "id": "2wLROc0gBvoa"
   },
   "outputs": [],
   "source": [
    "transform = transforms.Compose([\n",
    "        transforms.ToTensor(),\n",
    "        transforms.Normalize(mean=(0.5, 0.5, 0.5), std=(0.5, 0.5, 0.5))\n",
    "])\n",
    "\n",
    "dataset = datasets.MNIST(root='./data/', train=True, download=True, transform=transform)\n",
    "dataloader = torch.utils.data.DataLoader(dataset, batch_size=batch_size, shuffle=True)\n",
    "\n",
    "num_batches = len(dataloader)"
   ]
  },
  {
   "cell_type": "markdown",
   "metadata": {
    "colab_type": "text",
    "id": "Nh7ky502Bvog"
   },
   "source": [
    "### Model Architecture"
   ]
  },
  {
   "cell_type": "code",
   "execution_count": 112,
   "metadata": {
    "colab": {},
    "colab_type": "code",
    "id": "ff9AX9TiBvoi"
   },
   "outputs": [],
   "source": [
    "# Q1. implement discriminator and generator as Multi-Layer Perceptrons\n",
    "# Q2. add dropout layers and check network performance by plotting histograms\n",
    "\n",
    "\n",
    "class Discriminator(nn.Module):\n",
    "    def __init__(self):\n",
    "        super().__init__()\n",
    "        # define hidden linear layers\n",
    "        input_size=784\n",
    "        hidden_dim=32\n",
    "        output_size=1\n",
    "        self.fc1 = nn.Linear(input_size, hidden_dim*4)\n",
    "        self.fc2 = nn.Linear(hidden_dim*4, hidden_dim*2)\n",
    "        self.fc3 = nn.Linear(hidden_dim*2, hidden_dim)\n",
    "        \n",
    "        # final fully-connected layer\n",
    "        self.fc4 = nn.Linear(hidden_dim, output_size)\n",
    "        \n",
    "        # dropout layer \n",
    "        self.dropout = nn.Dropout(0.3)\n",
    "    \n",
    "    def forward(self, x):\n",
    "        # flatten image\n",
    "        x = x.view(-1, 28*28)\n",
    "        # all hidden layers\n",
    "        x = F.leaky_relu(self.fc1(x))\n",
    "        x = self.dropout(x)\n",
    "        x = F.leaky_relu(self.fc2(x))\n",
    "        x = self.dropout(x)\n",
    "        x = F.leaky_relu(self.fc3(x))\n",
    "        x = self.dropout(x)\n",
    "        # final layer\n",
    "        out = self.fc4(x)\n",
    "        return out\n",
    "      \n",
    "        \n",
    "\n",
    "        \n",
    "class Generator(nn.Module):\n",
    "    def __init__(self):\n",
    "        super().__init__()\n",
    "         # define hidden linear layers\n",
    "        input_size=100\n",
    "        hidden_dim=32\n",
    "        output_size=784\n",
    "        self.fc1 = nn.Linear(input_size, hidden_dim)\n",
    "        self.fc2 = nn.Linear(hidden_dim, hidden_dim*2)\n",
    "        self.fc3 = nn.Linear(hidden_dim*2, hidden_dim*4)\n",
    "        \n",
    "        # final fully-connected layer\n",
    "        self.fc4 = nn.Linear(hidden_dim*4, output_size)\n",
    "        \n",
    "        # dropout layer \n",
    "        self.dropout = nn.Dropout(0.3)\n",
    "    \n",
    "    def forward(self, x):\n",
    "         # all hidden layers\n",
    "        x = F.leaky_relu(self.fc1(x))\n",
    "        x = self.dropout(x)\n",
    "        x = F.leaky_relu(self.fc2(x))\n",
    "        x = self.dropout(x)\n",
    "        x = F.leaky_relu(self.fc3(x))\n",
    "        x = self.dropout(x)\n",
    "        # final layer with tanh applied\n",
    "        out = F.tanh(self.fc4(x))\n",
    "\n",
    "        return out"
   ]
  },
  {
   "cell_type": "code",
   "execution_count": 113,
   "metadata": {
    "colab": {},
    "colab_type": "code",
    "id": "nKhGAnpZBvos"
   },
   "outputs": [],
   "source": [
    "discriminator = Discriminator() #ursprünglich Discriminator().cuda()\n",
    "generator = Generator() #usprünglich .cuda()"
   ]
  },
  {
   "cell_type": "markdown",
   "metadata": {
    "colab_type": "text",
    "id": "owQK8kA6Bvox"
   },
   "source": [
    "### Optimization"
   ]
  },
  {
   "cell_type": "code",
   "execution_count": 114,
   "metadata": {
    "colab": {},
    "colab_type": "code",
    "id": "KKUa-m8SBvoz"
   },
   "outputs": [],
   "source": [
    "criterion = nn.BCEWithLogitsLoss()\n",
    "lr = 0.0002\n",
    "discriminator_optimizer = torch.optim.Adam(discriminator.parameters(), lr=lr)\n",
    "generator_optimizer = torch.optim.Adam(generator.parameters(), lr=lr)"
   ]
  },
  {
   "cell_type": "markdown",
   "metadata": {
    "colab_type": "text",
    "id": "EeXLLcv7Bvo4"
   },
   "source": [
    "### Training"
   ]
  },
  {
   "cell_type": "code",
   "execution_count": 115,
   "metadata": {
    "colab": {},
    "colab_type": "code",
    "id": "xo7rQ-QMBvo6"
   },
   "outputs": [],
   "source": [
    "\n",
    "def train_discriminator(discriminator, images, fake_images):#ursprünglich mit real_labels und fake_labels\n",
    "    ##TODO: fill-in the training procedure of discriminator##\n",
    "    discriminator_optimizer.zero_grad()\n",
    "\n",
    "    D_real = discriminator(images)\n",
    "    batch_size = D_real.size(0)\n",
    "    # label smoothing\n",
    "\n",
    "    # smooth, real labels = 0.9\n",
    "    labels = torch.ones(batch_size)*0.9\n",
    "\n",
    "        \n",
    "    \n",
    "    # calculate loss\n",
    "    real_score = criterion(D_real.squeeze(), labels)\n",
    "    \n",
    "    # Compute the discriminator losses on fake images        \n",
    "    D_fake = discriminator(fake_images)\n",
    "    \n",
    "    \n",
    "    batch_size = D_fake.size(0)\n",
    "    labels = torch.zeros(batch_size) # fake labels = 0\n",
    "    # calculate loss\n",
    "    fake_score = criterion(D_fake.squeeze(), labels)\n",
    "        \n",
    "    # add up loss and perform backprop\n",
    "    discriminator_loss = real_score + fake_score\n",
    "    discriminator_loss.backward()\n",
    "    discriminator_optimizer.step()\n",
    "\n",
    "    return discriminator_loss, real_score, fake_score"
   ]
  },
  {
   "cell_type": "code",
   "execution_count": 116,
   "metadata": {
    "colab": {},
    "colab_type": "code",
    "id": "Pk_ynrKxBvpB"
   },
   "outputs": [],
   "source": [
    "def train_generator(generator): #ursprünglich mit discriminator_outputs und rea_labels\n",
    "    generator_optimizer.zero_grad()\n",
    "         \n",
    "    # Generate fake images\n",
    "    z = np.random.uniform(-1, 1, size=(batch_size, z_size))\n",
    "    z = torch.from_numpy(z).float()\n",
    "    fake_images = generator(z)\n",
    "        \n",
    "    # Compute the discriminator losses on fake images \n",
    "    # using flipped labels!\n",
    "    D_fake = discriminator(fake_images)\n",
    "    generator_loss = real_loss(D_fake) # use real loss to flip labels\n",
    "        \n",
    "    # perform backprop\n",
    "    generator_loss.backward()\n",
    "    generator_optimizer.step()\n",
    "\n",
    "    return generator_loss"
   ]
  },
  {
   "cell_type": "code",
   "execution_count": 117,
   "metadata": {
    "colab": {
     "base_uri": "https://localhost:8080/",
     "height": 911
    },
    "colab_type": "code",
    "executionInfo": {
     "elapsed": 2278,
     "status": "error",
     "timestamp": 1547985919402,
     "user": {
      "displayName": "veeru dumpala",
      "photoUrl": "https://lh4.googleusercontent.com/-aU5N_jdQkQU/AAAAAAAAAAI/AAAAAAAABUk/evr107nV3Sc/s64/photo.jpg",
      "userId": "00690826012882497487"
     },
     "user_tz": -60
    },
    "id": "ww-qwVM0BvpK",
    "outputId": "ace1c6f1-04d1-4498-b1f5-8ec771a13ac3",
    "scrolled": false
   },
   "outputs": [
    {
     "data": {
      "image/png": "[encoded data removed]",
      "text/plain": [
       "<Figure size 432x432 with 16 Axes>"
      ]
     },
     "metadata": {},
     "output_type": "display_data"
    },
    {
     "name": "stdout",
     "output_type": "stream",
     "text": [
      "Epoch [80/80], Step[600/600], discriminator_loss: 1.2788, generator_loss: 1.0954, D(x): 0.75, D(G(z)): 0.53\n"
     ]
    },
    {
     "data": {
      "text/plain": [
       "<matplotlib.legend.Legend at 0x1cbf3345cf8>"
      ]
     },
     "execution_count": 117,
     "metadata": {},
     "output_type": "execute_result"
    },
    {
     "data": {
      "image/png": "[encoded data removed]",
      "text/plain": [
       "<Figure size 432x432 with 16 Axes>"
      ]
     },
     "metadata": {
      "needs_background": "light"
     },
     "output_type": "display_data"
    },
    {
     "data": {
      "image/png": "[encoded data removed]",
      "text/plain": [
       "<Figure size 432x288 with 1 Axes>"
      ]
     },
     "metadata": {
      "needs_background": "light"
     },
     "output_type": "display_data"
    }
   ],
   "source": [
    "import numpy as np\n",
    "\n",
    "# draw generated test samples from the input distribution\n",
    "num_test_samples = 16\n",
    "\n",
    "z_size = 100\n",
    "losses = []\n",
    "\n",
    "# grid figure to visualize generated MNIT digits\n",
    "grid_size = int(math.sqrt(num_test_samples))\n",
    "fig, ax = plt.subplots(grid_size, grid_size, figsize=(6, 6))\n",
    "for i, j in itertools.product(range(grid_size), range(grid_size)):\n",
    "    ax[i,j].get_xaxis().set_visible(False)\n",
    "    ax[i,j].get_yaxis().set_visible(False)\n",
    "\n",
    "# figure counter\n",
    "num_fig = 0\n",
    "\n",
    "# sample test noise to generate test images\n",
    "test_noise = Variable(torch.randn(num_test_samples, 100)) #.cuda()\n",
    "\n",
    "for epoch in range(num_epochs):\n",
    "    \n",
    "    for n, (images, _) in enumerate(dataloader):\n",
    "        images = F.upsample(images, size=(28,28))\n",
    "        images = Variable(images) #images.cuda\n",
    "        real_labels = Variable(torch.ones(images.size(0))) #.cuda()\n",
    "        \n",
    "        \n",
    "        \n",
    "        ##TODO: sample fake images from generator with random noise (not test_noise)\n",
    "        fake_labels = Variable(torch.zeros(images.size(0))) #.cuda()\n",
    "        # Generate fake images\n",
    "        z = np.random.uniform(-1, 1, size=(batch_size, z_size))\n",
    "        z = torch.from_numpy(z).float()\n",
    "        fake_images = generator(z)\n",
    "        \n",
    "        #train the discriminator##\n",
    "        discriminator_loss, real_score, fake_score = train_discriminator(discriminator, images, fake_images)\n",
    "        \n",
    "        ##TODO: sample again fake images from the generator with random noise and get discriminator output for this fake images\n",
    "        z = np.random.uniform(-1, 1, size=(batch_size, z_size))\n",
    "        z = torch.from_numpy(z).float()\n",
    "        fake_images = generator(z)\n",
    "       \n",
    "        ##TODO: train the generator\n",
    "        generator_loss = train_generator(generator)\n",
    "        \n",
    "        if (n+1) % 100 == 0:\n",
    "            test_images = generator(test_noise)\n",
    "            \n",
    "            for k in range(num_test_samples):\n",
    "                i = k//4\n",
    "                j = k%4\n",
    "                ax[i,j].cla()\n",
    "                ax[i,j].imshow(test_images[k,:].data.cpu().numpy().reshape(28, 28), cmap='Greys')\n",
    "            display.clear_output(wait=True)\n",
    "            display.display(plt.gcf())\n",
    "            \n",
    "            time.sleep(1)\n",
    "            plt.savefig('results/gan/%03d.png'%num_fig)\n",
    "            num_fig += 1\n",
    "            print('Epoch [%d/%d], Step[%d/%d], discriminator_loss: %.4f, generator_loss: %.4f, ' \n",
    "                  'D(x): %.2f, D(G(z)): %.2f' \n",
    "                  %(epoch + 1, num_epochs, n+1, num_batches, discriminator_loss.item(), generator_loss.item(),\n",
    "                    real_score.data.mean(), fake_score.data.mean()))\n",
    "            \n",
    "    # append discriminator loss and generator loss\n",
    "    losses.append((discriminator_loss.item(), generator_loss.item()))\n",
    "            \n",
    "    ##TODO: plot loss and score as historgram##\n",
    "fig = plt.subplots()\n",
    "losses = np.array(losses)\n",
    "plt.plot(losses.T[0], label='Discriminator')\n",
    "plt.plot(losses.T[1], label='Generator')\n",
    "plt.title(\"Training Losses\")\n",
    "plt.legend()\n",
    "            \n",
    "    "
   ]
  },
  {
   "cell_type": "code",
   "execution_count": null,
   "metadata": {},
   "outputs": [],
   "source": []
  },
  {
   "cell_type": "code",
   "execution_count": null,
   "metadata": {},
   "outputs": [],
   "source": []
  }
 ],
 "metadata": {
  "accelerator": "GPU",
  "colab": {
   "collapsed_sections": [],
   "name": "MLP_GAN.ipynb",
   "provenance": [],
   "version": "0.3.2"
  },
  "kernelspec": {
   "display_name": "Python 3",
   "language": "python",
   "name": "python3"
  },
  "language_info": {
   "codemirror_mode": {
    "name": "ipython",
    "version": 3
   },
   "file_extension": ".py",
   "mimetype": "text/x-python",
   "name": "python",
   "nbconvert_exporter": "python",
   "pygments_lexer": "ipython3",
   "version": "3.7.0"
  }
 },
 "nbformat": 4,
 "nbformat_minor": 1
}
