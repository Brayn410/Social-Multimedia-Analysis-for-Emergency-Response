{
 "cells": [
  {
   "cell_type": "markdown",
   "metadata": {},
   "source": [
    "# Exercise Sheet 1\n",
    "\n",
    "\n",
    "\n",
    "### Read the Dataset\n",
    "\n",
    "- Use Pandas to read the 'covertype.csv' file\n",
    "- The dataset contains information on different forest cover types\n",
    "- Look at the columns. Which of them contain meaningful features?\n",
    "\n",
    "\n",
    "\n",
    "### Seperate Features and Labels\n",
    "- Define x as the vectors of meaningful features\n",
    "- Define y as the labels (Cover_Type)\n",
    "\n",
    "\n",
    "\n",
    "### Split the dataset into two disjoint datasets for training and testing\n",
    "- Randomly split the dataset. Use 70% for training and 30% for testing.\n",
    "- Define x_train and x_test as the feature vectors\n",
    "- Define y_train and y_test as the labels\n",
    "    - Hint: Have a look at the sklearn package"
   ]
  },
  {
   "cell_type": "code",
   "execution_count": 10,
   "metadata": {
    "scrolled": false
   },
   "outputs": [
    {
     "name": "stdout",
     "output_type": "stream",
     "text": [
      "          Id  Elevation  Aspect  Slope  Horizontal_Distance_To_Hydrology  \\\n0          1       2596      51      3                               258   \n1          2       2590      56      2                               212   \n2          3       2804     139      9                               268   \n3          4       2785     155     18                               242   \n4          5       2595      45      2                               153   \n5          6       2579     132      6                               300   \n6          7       2606      45      7                               270   \n7          8       2605      49      4                               234   \n8          9       2617      45      9                               240   \n9         10       2612      59     10                               247   \n10        11       2612     201      4                               180   \n11        12       2886     151     11                               371   \n12        13       2742     134     22                               150   \n13        14       2609     214      7                               150   \n14        15       2503     157      4                                67   \n15        16       2495      51      7                                42   \n16        17       2610     259      1                               120   \n17        18       2517      72      7                                85   \n18        19       2504       0      4                                95   \n19        20       2503      38      5                                85   \n20        21       2501      71      9                                60   \n21        22       2880     209     17                               216   \n22        23       2768     114     23                               192   \n23        24       2511      54      8                               124   \n24        25       2507      22      9                               120   \n25        26       2492     135      6                                 0   \n26        27       2489     163     10                                30   \n27        28       2962     148     16                               323   \n28        29       2811     135      1                               212   \n29        30       2739     117     24                               127   \n...      ...        ...     ...    ...                               ...   \n15090  15091       2417     194     21                                42   \n15091  15092       2614       4     18                               150   \n15092  15093       2529      43     33                               319   \n15093  15094       2404     194      4                                 0   \n15094  15095       2426      14     30                                67   \n15095  15096       2410      19     22                                30   \n15096  15097       2478      38     32                               192   \n15097  15098       2653     343     10                               192   \n15098  15099       2661       8      7                               234   \n15099  15100       2514      34     33                               256   \n15100  15101       2519     341     22                               467   \n15101  15102       2496      32     23                               150   \n15102  15103       2576      43     21                               283   \n15103  15104       2563      23     31                                85   \n15104  15105       2566     259     10                               421   \n15105  15106       2480      10     21                               150   \n15106  15107       2656      66     11                               524   \n15107  15108       2600     293     14                               330   \n15108  15109       2593      38     21                               120   \n15109  15110       2600      57     19                                 0   \n15110  15111       2508      33     26                                67   \n15111  15112       2610      59     17                                60   \n15112  15113       2600      38     25                               124   \n15113  15114       2688     104     15                               443   \n15114  15115       2670     108     12                               624   \n15115  15116       2607     243     23                               258   \n15116  15117       2603     121     19                               633   \n15117  15118       2492     134     25                               365   \n15118  15119       2487     167     28                               218   \n15119  15120       2475     197     34                               319   \n\n       Vertical_Distance_To_Hydrology  Horizontal_Distance_To_Roadways  \\\n0                                   0                              510   \n1                                  -6                              390   \n2                                  65                             3180   \n3                                 118                             3090   \n4                                  -1                              391   \n5                                 -15                               67   \n6                                   5                              633   \n7                                   7                              573   \n8                                  56                              666   \n9                                  11                              636   \n10                                 51                              735   \n11                                 26                             5253   \n12                                 69                             3215   \n13                                 46                              771   \n14                                  4                              674   \n15                                  2                              752   \n16                                 -1                              607   \n17                                  6                              595   \n18                                  5                              691   \n19                                 10                              741   \n20                                  8                              767   \n21                                 30                             4986   \n22                                 82                             3339   \n23                                  0                              638   \n24                                 14                              732   \n25                                  0                              860   \n26                                 -4                              849   \n27                                 23                             5916   \n28                                 30                             3670   \n29                                 53                             3281   \n...                               ...                              ...   \n15090                              12                             1154   \n15091                              58                             1347   \n15092                             122                             1293   \n15093                               0                             1154   \n15094                              20                             1071   \n15095                              10                             1006   \n15096                              77                             1110   \n15097                              41                             1216   \n15098                              45                             1158   \n15099                             110                             1015   \n15100                             118                             1006   \n15101                             -22                              883   \n15102                             -23                              953   \n15103                             -10                              816   \n15104                             -33                              853   \n15105                              38                              607   \n15106                              35                              883   \n15107                               0                              812   \n15108                              -6                              769   \n15109                               0                              731   \n15110                               1                              644   \n15111                              10                              674   \n15112                               0                              589   \n15113                              10                              805   \n15114                              24                              730   \n15115                               7                              660   \n15116                             195                              618   \n15117                             117                              335   \n15118                             101                              242   \n15119                              78                              270   \n\n       Hillshade_9am  Hillshade_Noon  Hillshade_3pm     ...      Soil_Type32  \\\n0                221             232            148     ...                0   \n1                220             235            151     ...                0   \n2                234             238            135     ...                0   \n3                238             238            122     ...                0   \n4                220             234            150     ...                0   \n5                230             237            140     ...                0   \n6                222             225            138     ...                0   \n7                222             230            144     ...                0   \n8                223             221            133     ...                0   \n9                228             219            124     ...                0   \n10               218             243            161     ...                0   \n11               234             240            136     ...                0   \n12               248             224             92     ...                0   \n13               213             247            170     ...                0   \n14               224             240            151     ...                0   \n15               224             225            137     ...                0   \n16               216             239            161     ...                0   \n17               228             227            133     ...                0   \n18               214             232            156     ...                0   \n19               220             228            144     ...                0   \n20               230             223            126     ...                0   \n21               206             253            179     ...                0   \n22               252             209             71     ...                0   \n23               225             222            130     ...                0   \n24               215             221            143     ...                0   \n25               229             237            142     ...                0   \n26               230             243            145     ...                0   \n27               240             236            120     ...                0   \n28               220             238            154     ...                0   \n29               253             210             71     ...                0   \n...              ...             ...            ...     ...              ...   \n15090            211             252            165     ...                0   \n15091            193             201            143     ...                0   \n15092            205             148             54     ...                0   \n15093            219             243            160     ...                0   \n15094            178             166            111     ...                0   \n15095            197             186            119     ...                0   \n15096            203             154             66     ...                0   \n15097            200             225            163     ...                0   \n15098            212             226            152     ...                0   \n15099            195             150             69     ...                0   \n15100            168             201            169     ...                0   \n15101            208             182             99     ...                0   \n15102            219             189             96     ...                0   \n15103            186             158             91     ...                0   \n15104            196             246            189     ...                0   \n15105            193             194            133     ...                0   \n15106            231             217            117     ...                0   \n15107            179             236            197     ...                0   \n15108            215             190            101     ...                0   \n15109            229             197             93     ...                0   \n15110            204             173             91     ...                0   \n15111            231             202             98     ...                0   \n15112            212             178             89     ...                0   \n15113            245             219             99     ...                0   \n15114            241             225            112     ...                0   \n15115            170             251            214     ...                0   \n15116            249             221             91     ...                0   \n15117            250             220             83     ...                0   \n15118            229             237            119     ...                0   \n15119            189             244            164     ...                0   \n\n       Soil_Type33  Soil_Type34  Soil_Type35  Soil_Type36  Soil_Type37  \\\n0                0            0            0            0            0   \n1                0            0            0            0            0   \n2                0            0            0            0            0   \n3                0            0            0            0            0   \n4                0            0            0            0            0   \n5                0            0            0            0            0   \n6                0            0            0            0            0   \n7                0            0            0            0            0   \n8                0            0            0            0            0   \n9                0            0            0            0            0   \n10               0            0            0            0            0   \n11               0            0            0            0            0   \n12               0            0            0            0            0   \n13               0            0            0            0            0   \n14               0            0            0            0            0   \n15               0            0            0            0            0   \n16               0            0            0            0            0   \n17               0            0            0            0            0   \n18               0            0            0            0            0   \n19               0            0            0            0            0   \n20               0            0            0            0            0   \n21               0            0            0            0            0   \n22               0            0            0            0            0   \n23               0            0            0            0            0   \n24               0            0            0            0            0   \n25               0            0            0            0            0   \n26               0            0            0            0            0   \n27               0            0            0            0            0   \n28               0            0            0            0            0   \n29               0            0            0            0            0   \n...            ...          ...          ...          ...          ...   \n15090            0            0            0            0            0   \n15091            0            0            0            0            0   \n15092            0            0            0            0            0   \n15093            0            0            0            0            0   \n15094            0            0            0            0            0   \n15095            0            0            0            0            0   \n15096            0            0            0            0            0   \n15097            0            0            0            0            0   \n15098            0            0            0            0            0   \n15099            0            0            0            0            0   \n15100            0            0            0            0            0   \n15101            0            0            0            0            0   \n15102            0            0            0            0            0   \n15103            0            0            0            0            0   \n15104            0            0            0            0            0   \n15105            0            0            0            0            0   \n15106            0            0            0            0            0   \n15107            0            0            0            0            0   \n15108            0            0            0            0            0   \n15109            0            0            0            0            0   \n15110            0            0            0            0            0   \n15111            0            0            0            0            0   \n15112            0            0            0            0            0   \n15113            0            0            0            0            0   \n15114            0            0            0            0            0   \n15115            0            0            0            0            0   \n15116            0            0            0            0            0   \n15117            0            0            0            0            0   \n15118            0            0            0            0            0   \n15119            0            0            0            0            0   \n\n       Soil_Type38  Soil_Type39  Soil_Type40  Cover_Type  \n0                0            0            0           5  \n1                0            0            0           5  \n2                0            0            0           2  \n3                0            0            0           2  \n4                0            0            0           5  \n5                0            0            0           2  \n6                0            0            0           5  \n7                0            0            0           5  \n8                0            0            0           5  \n9                0            0            0           5  \n10               0            0            0           5  \n11               0            0            0           2  \n12               0            0            0           2  \n13               0            0            0           5  \n14               0            0            0           5  \n15               0            0            0           5  \n16               0            0            0           5  \n17               0            0            0           5  \n18               0            0            0           5  \n19               0            0            0           5  \n20               0            0            0           5  \n21               0            0            0           2  \n22               0            0            0           5  \n23               0            0            0           5  \n24               0            0            0           5  \n25               0            0            0           5  \n26               0            0            0           5  \n27               0            0            0           2  \n28               0            0            0           2  \n29               0            0            0           5  \n...            ...          ...          ...         ...  \n15090            0            0            0           3  \n15091            0            0            0           3  \n15092            0            0            0           3  \n15093            0            0            0           6  \n15094            0            0            0           6  \n15095            0            0            0           6  \n15096            0            0            0           6  \n15097            0            0            0           3  \n15098            0            0            0           3  \n15099            0            0            0           6  \n15100            0            0            0           3  \n15101            0            0            0           6  \n15102            0            0            0           3  \n15103            0            0            0           6  \n15104            0            0            0           3  \n15105            0            0            0           6  \n15106            0            0            0           3  \n15107            0            0            0           3  \n15108            0            0            0           3  \n15109            0            0            0           6  \n15110            0            0            0           6  \n15111            0            0            0           6  \n15112            0            0            0           6  \n15113            0            0            0           3  \n15114            0            0            0           3  \n15115            0            0            0           3  \n15116            0            0            0           3  \n15117            0            0            0           3  \n15118            0            0            0           3  \n15119            0            0            0           3  \n\n[15120 rows x 56 columns]\n"
     ]
    }
   ],
   "source": [
    "import pandas as pd\n",
    "import os\n",
    "\n",
    "cur_directory = \"D:\\\\Dropbox\\\\Dropbox\\\\Master Theoretische Informatik\\\\Very Deep Learning\\\\WiSe 18_19\\\\Übungsblätter\\\\Blatt 1\\\\\"\n",
    "data = os.listdir(cur_directory)\n",
    "\n",
    "file = pd.read_csv(cur_directory + \"covertype.csv\")\n",
    "\n",
    "print (file)\n",
    "\n",
    "# df = \n",
    "\n",
    "# x = \n",
    "\n",
    "# y = \n",
    "\n",
    "# x_train, x_test, y_train, y_test = "
   ]
  },
  {
   "cell_type": "markdown",
   "metadata": {},
   "source": [
    "### Train a simple deep neural network\n",
    "- Use Keras to define a simple Multi-Layer Perceptron with at least 3 layers and a Softmax classifier\n",
    "    - You have to explicitly give the input shape of the first layer\n",
    "    - The other layer shapes are inferred\n",
    "    - The last layer should have as many neurons as there are classes\n",
    "        - How many classes are there?\n",
    "- Define 'accuracy' as performance metric when compiling the network model\n",
    "- Train the MLP with x_train, y_train\n",
    "    - Make sure to save the training history for later assessment\n",
    "- Evaluate the performance on x_test, y_test"
   ]
  },
  {
   "cell_type": "code",
   "execution_count": 2,
   "metadata": {
    "scrolled": false
   },
   "outputs": [
    {
     "ename": "ImportError",
     "evalue": "No module named 'keras'",
     "traceback": [
      "\u001b[0;31m---------------------------------------------------------------------------\u001b[0m",
      "\u001b[0;31mImportError\u001b[0m                               Traceback (most recent call last)",
      "\u001b[0;32m<ipython-input-2-4b7ff386e73f>\u001b[0m in \u001b[0;36m<module>\u001b[0;34m()\u001b[0m\n\u001b[0;32m----> 1\u001b[0;31m \u001b[1;32mimport\u001b[0m \u001b[0mkeras\u001b[0m\u001b[1;33m\u001b[0m\u001b[0m\n\u001b[0m\u001b[1;32m      2\u001b[0m \u001b[1;33m\u001b[0m\u001b[0m\n\u001b[1;32m      3\u001b[0m \u001b[1;33m\u001b[0m\u001b[0m\n\u001b[1;32m      4\u001b[0m \u001b[1;31m# number_of_classes =\u001b[0m\u001b[1;33m\u001b[0m\u001b[1;33m\u001b[0m\u001b[0m\n\u001b[1;32m      5\u001b[0m \u001b[1;33m\u001b[0m\u001b[0m\n",
      "\u001b[0;31mImportError\u001b[0m: No module named 'keras'"
     ],
     "output_type": "error"
    }
   ],
   "source": [
    "import keras\n",
    "\n",
    "\n",
    "# number_of_classes = \n",
    "\n",
    "# model = \n",
    "\n",
    "# model.compile(...)\n",
    "\n",
    "# history = model.fit(...)"
   ]
  },
  {
   "cell_type": "markdown",
   "metadata": {},
   "source": [
    "### Debug\n",
    "- If your loss is NaN, either your network architecture or your data is faulty\n",
    "    - Check your network architecture\n",
    "    - Check your data\n",
    "        - Are there any NaN or infinite features or labels?\n",
    "    - Print the labels.\n",
    "        - How many unique labels do you have?\n",
    "        - Are they [0, ..., n-1]?\n",
    "            - If not, align them"
   ]
  },
  {
   "cell_type": "code",
   "execution_count": null,
   "metadata": {},
   "outputs": [],
   "source": [
    "import numpy as np\n",
    "\n",
    "\n"
   ]
  },
  {
   "cell_type": "markdown",
   "metadata": {},
   "source": [
    "### Train again\n",
    "- Reinitialize or redefine your MLP from above and train it again"
   ]
  },
  {
   "cell_type": "code",
   "execution_count": null,
   "metadata": {},
   "outputs": [],
   "source": []
  },
  {
   "cell_type": "markdown",
   "metadata": {},
   "source": [
    "### Does it work?\n",
    "- The loss should now be a number.\n",
    "- Does the network converge?\n",
    "\n",
    "\n",
    "\n",
    "### Inspect the data\n",
    "- Compute the min, max, mean and standard deviation of each feature\n",
    "- What data type do the columns have?\n",
    "- Use Pandas to print the statistics in a table\n",
    "- What could be problematic with the dataset?"
   ]
  },
  {
   "cell_type": "code",
   "execution_count": null,
   "metadata": {},
   "outputs": [],
   "source": [
    "import numpy as np\n",
    "pd.options.display.float_format = '{:.2f}'.format\n",
    "\n",
    "\n",
    "stats = pd.DataFrame(columns=[\"Type\", \"Min\", \"Max\", \"Mean\", \"Std\"])\n",
    "\n",
    "# for col in x.columns:\n",
    "#     stats.loc[col] = {\"Type\": ,\n",
    "#                       \"Min\": ,\n",
    "#                       \"Max\": ,\n",
    "#                       \"Mean\": ,\n",
    "#                       \"Std\": \n",
    "#                      }\n",
    "\n",
    "\n",
    "\n",
    "display(stats)"
   ]
  },
  {
   "cell_type": "markdown",
   "metadata": {},
   "source": [
    "### Preprocess the Data\n",
    "- Normalize or standardize your data, so all features are at the same scale.\n",
    "    - This will help your network to use all available features and not be biased by some features with large values\n",
    "    - Does it make sense to normalize all columns, or only some?\n",
    "- Hint: Again, look if you find something useful in sklearn\n",
    "\n",
    "\n",
    "- Never use test data to optimize your training! This includes the preprocessing\n",
    "    - Find preprocessing parameters on your training data only!\n",
    "    - Transform all your data with the computed parameters\n",
    "    - You have to remember which of your samples are used for training and which are for testing\n"
   ]
  },
  {
   "cell_type": "code",
   "execution_count": null,
   "metadata": {
    "scrolled": false
   },
   "outputs": [],
   "source": []
  },
  {
   "cell_type": "markdown",
   "metadata": {},
   "source": [
    "### Inspect data again\n",
    "- Print the statistics of the preprocessed data using the code from above"
   ]
  },
  {
   "cell_type": "code",
   "execution_count": null,
   "metadata": {},
   "outputs": [],
   "source": [
    "stats = pd.DataFrame(columns=[\"Type\", \"Min\", \"Max\", \"Mean\", \"Std\"])\n",
    "\n",
    "# for col in x.columns:\n",
    "#     stats.loc[col] = {\"Type\": ,\n",
    "#                       \"Min\": ,\n",
    "#                       \"Max\": ,\n",
    "#                       \"Mean\": ,\n",
    "#                       \"Std\": \n",
    "#                      }\n",
    "\n",
    "\n",
    "\n",
    "display(stats)"
   ]
  },
  {
   "cell_type": "markdown",
   "metadata": {},
   "source": [
    "### Train the network again\n",
    "- Reinitialize or redefine your MLP from above and train it again\n"
   ]
  },
  {
   "cell_type": "code",
   "execution_count": null,
   "metadata": {
    "scrolled": false
   },
   "outputs": [],
   "source": []
  },
  {
   "cell_type": "markdown",
   "metadata": {},
   "source": [
    "### Visualize the training\n",
    "- use matplotlib.pyplot to visualize the keras history\n",
    "- plot both the training accuracy and the validation accuracy"
   ]
  },
  {
   "cell_type": "code",
   "execution_count": null,
   "metadata": {},
   "outputs": [],
   "source": [
    "import matplotlib.pyplot as plt\n",
    "\n",
    "\n"
   ]
  }
 ],
 "metadata": {
  "kernelspec": {
   "display_name": "Python 3.6",
   "language": "python",
   "name": "py36"
  },
  "language_info": {
   "codemirror_mode": {
    "name": "ipython",
    "version": 3
   },
   "file_extension": ".py",
   "mimetype": "text/x-python",
   "name": "python",
   "nbconvert_exporter": "python",
   "pygments_lexer": "ipython3",
   "version": "3.6.6"
  }
 },
 "nbformat": 4,
 "nbformat_minor": 2
}
